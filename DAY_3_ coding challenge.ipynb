{
 "cells": [
  {
   "cell_type": "markdown",
   "id": "a325a16e-6b21-4720-a3d6-22a9b21dfb1b",
   "metadata": {},
   "source": [
    "# object orianted programing \n",
    "# python andvance 1\n",
    "# python advance 2\n",
    "# project "
   ]
  },
  {
   "cell_type": "code",
   "execution_count": 7,
   "id": "591ac3b9-a4a6-495d-85ca-8cbe24b52540",
   "metadata": {},
   "outputs": [
    {
     "name": "stdout",
     "output_type": "stream",
     "text": [
      "Nimra 120000 Google\n",
      "Roha 1200000 Google\n"
     ]
    }
   ],
   "source": [
    "#Q(1) create a class programmer to storing informaton of few programmers working at company?\n",
    "class Programmer:\n",
    "    company = \"Google\"\n",
    "    \n",
    "    def __init__(self, name, salary, pin):\n",
    "        self.name = name\n",
    "        self.salary = salary\n",
    "        self.pin = pin\n",
    "\n",
    "# Create instances of the Programmer class\n",
    "p = Programmer(\"Nimra\", 120000, 56798)\n",
    "print(p.name, p.salary, p.company)\n",
    "\n",
    "r = Programmer(\"Roha\", 1200000, 8796)\n",
    "print(r.name, r.salary, r.company)\n"
   ]
  },
  {
   "cell_type": "code",
   "execution_count": 2,
   "id": "3450fb86-f4d7-404c-b8b5-48cf34759b13",
   "metadata": {},
   "outputs": [],
   "source": [
    "#Q(2) calculator capabale of finding square root and square cube of a number\n",
    "class calculator:\n",
    "    def __init__ (self, n):\n",
    "        self. n=n\n",
    "    \n",
    "def squre(self):\n",
    "    print(f\"the square is {self.n*self.n}\")\n",
    "def cube(self):\n",
    "    print(f\"the cube is {self.n*self.n*self.n}\")\n",
    "def root(self):\n",
    "    print(f\"the squareroot is {self.n**1/2}\")    \n",
    "    a=calculator(4)\n",
    "    a.square()\n",
    "    a.cube()\n",
    "    a.squareroot()"
   ]
  },
  {
   "cell_type": "code",
   "execution_count": 9,
   "id": "7aec38b2-7444-47d4-849a-7138843dfe37",
   "metadata": {},
   "outputs": [
    {
     "name": "stdout",
     "output_type": "stream",
     "text": [
      "the square is 16\n",
      "the cube is 64\n",
      "the square root is 2.0\n"
     ]
    }
   ],
   "source": [
    "#Q(3) calculator capabale of finding square root and square cube of a number\n",
    "class Calculator:\n",
    "    def __init__ (self, n):\n",
    "        self. n=n\n",
    "    \n",
    "    def square(self):\n",
    "        print(f\"the square is {self.n* self.n}\")\n",
    "    \n",
    "    def cube(self):\n",
    "        print(f\"the cube is {self.n* self.n * self.n}\")\n",
    "    \n",
    "    def root(self):\n",
    "        print(f\"the square root is {self.n ** 0.5}\") \n",
    "    \n",
    "a = Calculator(4)\n",
    "a.square()\n",
    "a.cube()\n",
    "a.root()\n"
   ]
  },
  {
   "cell_type": "code",
   "execution_count": 13,
   "id": "50df5d48-34a2-4816-a88a-d5bf5d2f3790",
   "metadata": {},
   "outputs": [
    {
     "name": "stdout",
     "output_type": "stream",
     "text": [
      "4\n",
      "0\n",
      "4\n"
     ]
    }
   ],
   "source": [
    "#Q(4) create a class with class attribute a:= does this change the classs attribute\n",
    "class Demo:\n",
    "    a = 4  \n",
    "\n",
    "\n",
    "demo_instance = Demo()\n",
    "\n",
    "\n",
    "print(demo_instance.a)  \n",
    "\n",
    "\n",
    "demo_instance.a = 0\n",
    "\n",
    "\n",
    "print(demo_instance.a)  \n",
    "\n",
    "print(Demo.a)          \n"
   ]
  },
  {
   "cell_type": "code",
   "execution_count": 16,
   "id": "2ebb8776-07a8-4503-a4d6-948a75355176",
   "metadata": {},
   "outputs": [
    {
     "name": "stdout",
     "output_type": "stream",
     "text": [
      "Ticket booked from Lahore to Islamabad on train no 12399\n",
      "Train no:12399 is running on time\n",
      "Ticket fare in train no : 12399 from Lahore to Islamabad is 4199\n"
     ]
    }
   ],
   "source": [
    "#Q(5) find the  train no ,fare ,status  of train \n",
    "import random\n",
    "\n",
    "class Train:\n",
    "    def __init__(self, train_no):\n",
    "        self.trainNo = train_no\n",
    "\n",
    "    def book(self, from_station, to_station):\n",
    "       \n",
    "        print(f\"Ticket booked from {from_station} to {to_station} on train no {self.trainNo}\")\n",
    "\n",
    "    def getStatus(self):\n",
    "        print(f\"Train no:{self.trainNo} is running on time\")\n",
    "\n",
    "    def getFare(self, fro, to):\n",
    "        fare = random.randint(222, 5555)  \n",
    "        print(f\"Ticket fare in train no : {self.trainNo} from {fro} to {to} is {fare}\")\n",
    "\n",
    "\n",
    "t = Train(12399)\n",
    "t.book(\"Lahore\", \"Islamabad\")\n",
    "t.getStatus()\n",
    "t.getFare(\"Lahore\", \"Islamabad\")\n"
   ]
  },
  {
   "cell_type": "code",
   "execution_count": 24,
   "id": "271b1b82-9af3-4e78-9234-a85fb587fa32",
   "metadata": {},
   "outputs": [
    {
     "name": "stdout",
     "output_type": "stream",
     "text": [
      "The 2D vector is 1 + 2j\n",
      "The 3D vector is 1 + 2j + 3k\n"
     ]
    }
   ],
   "source": [
    "#Q(6) ceate a class 2_D vector and use it to create an other class?\n",
    "class TwoDVector:\n",
    "\n",
    "    def __init__(self, i, j):\n",
    "        self.i = i\n",
    "        self.j = j\n",
    "\n",
    "    def show(self):\n",
    "        print(f\"The 2D vector is {self.i} + {self.j}j\")\n",
    "\n",
    "class ThreeDVector(TwoDVector):\n",
    "    def __init__(self, i, j, k):\n",
    "        super().__init__(i, j)\n",
    "        self.k = k\n",
    "\n",
    "    def show(self):\n",
    "        print(f\"The 3D vector is {self.i} + {self.j}j + {self.k}k\")\n",
    "\n",
    "\n",
    "a = TwoDVector(1, 2)\n",
    "a.show()\n",
    "\n",
    "\n",
    "b = ThreeDVector(1, 2, 3)\n",
    "b.show()\n"
   ]
  },
  {
   "cell_type": "code",
   "execution_count": 25,
   "id": "f2660aa4-f91b-427d-81a7-ae31a31c9868",
   "metadata": {},
   "outputs": [
    {
     "name": "stdout",
     "output_type": "stream",
     "text": [
      "I am an animal named Buddy.\n",
      "I am a pet and my owner is Alice.\n",
      "Buddy, the Golden Retriever, says: Woof!\n"
     ]
    }
   ],
   "source": [
    "#Q(7) create a class pet from a class animals and create a class dog from a class pet .add a methood bark to a dog\n",
    "class Animal:\n",
    "    def __init__(self, name):\n",
    "        self.name = name\n",
    "\n",
    "    def show_info(self):\n",
    "        print(f\"I am an animal named {self.name}.\")\n",
    "\n",
    "class Pet(Animal):\n",
    "    def __init__(self, name, owner):\n",
    "        super().__init__(name) \n",
    "        self.owner = owner\n",
    "\n",
    "    def show_info(self):\n",
    "        super().show_info() \n",
    "        print(f\"I am a pet and my owner is {self.owner}.\")\n",
    "\n",
    "class Dog(Pet):\n",
    "    def __init__(self, name, owner, breed):\n",
    "        super().__init__(name, owner)  \n",
    "        self.breed = breed\n",
    "\n",
    "    def bark(self):\n",
    "        print(f\"{self.name}, the {self.breed}, says: Woof!\")\n",
    "\n",
    "\n",
    "my_dog = Dog(name=\"Buddy\", owner=\"Alice\", breed=\"Golden Retriever\")\n",
    "\n",
    "\n",
    "my_dog.show_info()\n",
    "\n",
    "\n",
    "my_dog.bark()\n"
   ]
  },
  {
   "cell_type": "code",
   "execution_count": 30,
   "id": "5994fa60-6e37-454f-ab7a-a6d86c26601a",
   "metadata": {},
   "outputs": [
    {
     "name": "stdout",
     "output_type": "stream",
     "text": [
      "Initial salary after increment: 280.8\n",
      "New increment percentage: 19.65811965811966\n",
      "New salary after increment: 280.0\n"
     ]
    }
   ],
   "source": [
    "#Q(8) create a class employ add salary and input properties in it?\n",
    "#methooe salary after increment which have prperty decorator\n",
    "\n",
    "class Employee:\n",
    "    def __init__(self):\n",
    "        self._salary = 234      \n",
    "        self._increment = 20    \n",
    "\n",
    "    @property\n",
    "    def salary(self):\n",
    "        return self._salary\n",
    "\n",
    "    @property\n",
    "    def increment(self):\n",
    "        return self._increment\n",
    "\n",
    "    @increment.setter\n",
    "    def increment(self, new_salary):\n",
    "        self._increment = ((new_salary - self._salary) / self._salary) * 100\n",
    "\n",
    "    @property\n",
    "    def salary_after_increment(self):\n",
    "        return self._salary + (self._salary * (self._increment / 100))\n",
    "\n",
    "\n",
    "\n",
    "e = Employee()\n",
    "\n",
    "\n",
    "print(\"Initial salary after increment:\", e.salary_after_increment)\n",
    "\n",
    "\n",
    "e.increment = 280  \n",
    "print(\"New increment percentage:\", e.increment)\n",
    "print(\"New salary after increment:\", e.salary_after_increment)\n"
   ]
  },
  {
   "cell_type": "code",
   "execution_count": 37,
   "id": "985fe5d3-1f4c-456a-95ef-ba0c1a8ec206",
   "metadata": {},
   "outputs": [
    {
     "name": "stdout",
     "output_type": "stream",
     "text": [
      "(4+6j)\n"
     ]
    }
   ],
   "source": [
    "#Q(9) addd complex number \n",
    "class Complex:\n",
    "    def __init__(self, r, i):\n",
    "         self.r =r\n",
    "         self. i=i\n",
    "    def __add__(self, c2):\n",
    "        return Complex(self.r + c2.r, self.i+c2.i)\n",
    "    def __str__(self):\n",
    "          return f\"{self.r}+{self.i}\"\n",
    "\n",
    "c1=complex(1,2)\n",
    "c2=complex(3,4)\n",
    "print(c1+c2)\n",
    "        "
   ]
  },
  {
   "cell_type": "code",
   "execution_count": 40,
   "id": "e6e82177-dbf7-44ac-9f48-f48a96c8fe5e",
   "metadata": {},
   "outputs": [
    {
     "name": "stdout",
     "output_type": "stream",
     "text": [
      "Sum: Vector(5, 7, 9)\n",
      "Dot Product: 32\n"
     ]
    }
   ],
   "source": [
    "#Q(10) Python class Vector that represents a vector in n dimensions. The class overloads the + and * operators to compute the sum and dot product of two vectors, \n",
    "class Vector:\n",
    "    def __init__(self, *args):\n",
    "        self.values = list(args)\n",
    "    \n",
    "    def __add__(self, other):\n",
    "        if len(self.values) != len(other.values):\n",
    "            raise ValueError(\"Vectors must have the same dimension for addition.\")\n",
    "        return Vector(*[self.values[i] + other.values[i] for i in range(len(self.values))])\n",
    "    \n",
    "    def __mul__(self, other):\n",
    "        if len(self.values) != len(other.values):\n",
    "            raise ValueError(\"Vectors must have the same dimension for dot product.\")\n",
    "        return sum(self.values[i] * other.values[i] for i in range(len(self.values)))\n",
    "    \n",
    "    def __repr__(self):\n",
    "        return f\"Vector({', '.join(map(str, self.values))})\"\n",
    "v1 = Vector(1, 2, 3)\n",
    "v2 = Vector(4, 5, 6)\n",
    "\n",
    "# Vector addition\n",
    "v_sum = v1 + v2\n",
    "print(\"Sum:\", v_sum)\n",
    "\n",
    "# Dot product\n",
    "dot_product = v1 * v2\n",
    "print(\"Dot Product:\", dot_product)\n"
   ]
  },
  {
   "cell_type": "code",
   "execution_count": 42,
   "id": "d89f1d8b-b64e-4528-a5a0-5d3013cb999b",
   "metadata": {},
   "outputs": [
    {
     "name": "stdout",
     "output_type": "stream",
     "text": [
      "3\n",
      "5\n",
      "7\n"
     ]
    }
   ],
   "source": [
    "#Q(11) write print 3rd 5th and 7th element of list\n",
    "l=[1,2,3,4,5,6,7,8]\n",
    "for i , items in enumerate(l):\n",
    "    if i==2 or i==4 or i==6:\n",
    "        print(items)\n",
    "\n"
   ]
  },
  {
   "cell_type": "code",
   "execution_count": 43,
   "id": "d545c8d3-2cee-460f-9669-12d5429ec7ae",
   "metadata": {},
   "outputs": [
    {
     "name": "stdout",
     "output_type": "stream",
     "text": [
      "[5, 10, 15, 20, 25, 30, 35, 40, 45, 50]\n"
     ]
    }
   ],
   "source": [
    "#Q(12)\n",
    "n=5\n",
    "\n",
    "table=[n*i for i in range (1,11)]\n",
    "print(table)"
   ]
  },
  {
   "cell_type": "code",
   "execution_count": 48,
   "id": "2ae2a34b-e36d-4345-b8ab-eea5eb0c6792",
   "metadata": {},
   "outputs": [
    {
     "name": "stdin",
     "output_type": "stream",
     "text": [
      "Enter a:  89\n",
      "Enter b:  7\n"
     ]
    },
    {
     "name": "stdout",
     "output_type": "stream",
     "text": [
      "Result: 12.714285714285714\n"
     ]
    }
   ],
   "source": [
    "#Q(13) To display a/b wherena and b are integer .if b=0, display  infinite by handling entered number.\n",
    "try:\n",
    "    a = int(input(\"Enter a: \"))\n",
    "    b = int(input(\"Enter b: \"))\n",
    "    result = a / b  # Assuming you want to perform division.\n",
    "    print(\"Result:\", result)\n",
    "except ZeroDivisionError:\n",
    "    print(\"Infinite (division by zero)\")\n",
    "except ValueError:\n",
    "    print(\"Invalid input, please enter integers.\")\n",
    "\n",
    "          "
   ]
  },
  {
   "cell_type": "code",
   "execution_count": 54,
   "id": "5272fdb1-edf3-4a4a-b5e8-39604eb1c443",
   "metadata": {},
   "outputs": [
    {
     "name": "stdout",
     "output_type": "stream",
     "text": [
      "7\n",
      "14\n",
      "21\n",
      "28\n",
      "35\n",
      "42\n",
      "49\n",
      "56\n",
      "63\n",
      "70\n"
     ]
    }
   ],
   "source": [
    "#Q(14) a list contains the multiplication table of 7 program to convert it yo vertical string of same nuber\n",
    "table=[str(7*i) for i in range (1,11)]\n",
    "       \n",
    "s= \"\\n\".join(table)\n",
    "print(s)"
   ]
  },
  {
   "cell_type": "code",
   "execution_count": 50,
   "id": "f92dc522-29bb-477c-8d5d-2ce9ebb99648",
   "metadata": {},
   "outputs": [
    {
     "name": "stdin",
     "output_type": "stream",
     "text": [
      "Enter name: manha\n",
      "Enter phone : 000000000\n",
      "Enter marks: 987\n"
     ]
    },
    {
     "name": "stdout",
     "output_type": "stream",
     "text": [
      "<built-in method format of str object at 0x00000280D2EA9350>\n"
     ]
    }
   ],
   "source": [
    "#Q(15) program too input name , marks , email, using format function\n",
    "\n",
    "\n",
    "name= input(\"Enter name:\")\n",
    "phone= input(\"Enter phone :\")\n",
    "marks= input(\"Enter marks:\")\n",
    "\n",
    "s=\"the name of student is {} , hais marks and phone is {}\". format\n",
    "(name, phone , marks)\n",
    "print(s)"
   ]
  },
  {
   "cell_type": "code",
   "execution_count": 61,
   "id": "57bfa2ea-309d-4bff-98d5-5f21cb228e29",
   "metadata": {},
   "outputs": [
    {
     "name": "stdout",
     "output_type": "stream",
     "text": [
      "[65, 65, 6785, 2345]\n"
     ]
    }
   ],
   "source": [
    "#Q(16) extrect number in list that are divisible by 5\n",
    "\n",
    "def divisibles(n):\n",
    "    if(n%5==0):\n",
    "        return True\n",
    "    return False\n",
    "\n",
    "a=[1,2,34,65,78,98,8,65,6785,7653,2345,98]\n",
    "\n",
    "f=list(filter(divisibles, a))\n",
    "print(f)"
   ]
  },
  {
   "cell_type": "code",
   "execution_count": null,
   "id": "05a7cfc9-40ea-42ed-8796-c64a96d2c54f",
   "metadata": {},
   "outputs": [],
   "source": []
  }
 ],
 "metadata": {
  "kernelspec": {
   "display_name": "Python 3 (ipykernel)",
   "language": "python",
   "name": "python3"
  },
  "language_info": {
   "codemirror_mode": {
    "name": "ipython",
    "version": 3
   },
   "file_extension": ".py",
   "mimetype": "text/x-python",
   "name": "python",
   "nbconvert_exporter": "python",
   "pygments_lexer": "ipython3",
   "version": "3.12.1"
  }
 },
 "nbformat": 4,
 "nbformat_minor": 5
}
