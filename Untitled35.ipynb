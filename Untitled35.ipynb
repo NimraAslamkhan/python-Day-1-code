{
 "cells": [
  {
   "cell_type": "code",
   "execution_count": 2,
   "id": "f07a7cb8-47aa-425d-b64c-c2b4fc13200d",
   "metadata": {},
   "outputs": [
    {
     "name": "stdout",
     "output_type": "stream",
     "text": [
      "6\n"
     ]
    }
   ],
   "source": [
    "#(1) write a program add two numbers?\n",
    "a=2\n",
    "b=4\n",
    "print(a+b)"
   ]
  },
  {
   "cell_type": "code",
   "execution_count": 3,
   "id": "9987e6af-1264-4ad0-9e2a-7345df404633",
   "metadata": {},
   "outputs": [
    {
     "name": "stdout",
     "output_type": "stream",
     "text": [
      "remaindar when a is divisibal by b is 4\n"
     ]
    }
   ],
   "source": [
    "#q(2) to find remaindar when number is divisiblae by Z?\n",
    "a=34\n",
    "b=5\n",
    "print(\"remaindar when a is divisibal by b is\", a%b)"
   ]
  },
  {
   "cell_type": "code",
   "execution_count": 4,
   "id": "8e34e755-21f3-45f8-bb90-805665491fbf",
   "metadata": {},
   "outputs": [
    {
     "name": "stdin",
     "output_type": "stream",
     "text": [
      "Enter the value of a 56\n"
     ]
    },
    {
     "name": "stdout",
     "output_type": "stream",
     "text": [
      "<class 'str'>\n"
     ]
    }
   ],
   "source": [
    "#q(3)type of variable assinged using input function?\n",
    "a=input(\"Enter the value of a\")\n",
    "print(type(a))"
   ]
  },
  {
   "cell_type": "code",
   "execution_count": 5,
   "id": "2a824480-7d65-4684-9807-ba2be0a66446",
   "metadata": {},
   "outputs": [
    {
     "name": "stdin",
     "output_type": "stream",
     "text": [
      "Enter the value of a 75\n"
     ]
    },
    {
     "name": "stdout",
     "output_type": "stream",
     "text": [
      "<class 'int'>\n"
     ]
    }
   ],
   "source": [
    "#q(3)type of variable assinged using input function?(conver it int)\n",
    "a=int(input(\"Enter the value of a\"))\n",
    "print(type(a))"
   ]
  },
  {
   "cell_type": "code",
   "execution_count": 8,
   "id": "02c0f067-9600-4751-81bc-8275e9e972a5",
   "metadata": {},
   "outputs": [
    {
     "name": "stdin",
     "output_type": "stream",
     "text": [
      "Enter number 1: 87\n",
      "Enter number 2: 67\n"
     ]
    },
    {
     "name": "stdout",
     "output_type": "stream",
     "text": [
      "a is grater than b is True\n"
     ]
    }
   ],
   "source": [
    "#Q(4) find a is grater then b or not?\n",
    "a=int(input(\"Enter number 1:\"))\n",
    "b=int(input(\"Enter number 2:\"))\n",
    "print(\"a is grater than b is\" ,a>b)\n"
   ]
  },
  {
   "cell_type": "code",
   "execution_count": 9,
   "id": "8af28e10-0ad4-4d69-9437-6a8e6feb77b2",
   "metadata": {},
   "outputs": [
    {
     "name": "stdin",
     "output_type": "stream",
     "text": [
      "Enter number 1: 56\n",
      "Enter number 2: 76\n"
     ]
    },
    {
     "name": "stdout",
     "output_type": "stream",
     "text": [
      "the average of these two numbers is  66.0\n"
     ]
    }
   ],
   "source": [
    "#q(5)write a programe  find average of two numbers enterd by user?\n",
    "a=int(input(\"Enter number 1:\"))\n",
    "b=int(input(\"Enter number 2:\"))\n",
    "print(\"the average of these two numbers is \", (a+b)/2)"
   ]
  },
  {
   "cell_type": "code",
   "execution_count": 16,
   "id": "3d1f3424-3c00-4cf6-b2f9-232778bd415c",
   "metadata": {},
   "outputs": [
    {
     "name": "stdin",
     "output_type": "stream",
     "text": [
      "Enter number 1: 8\n"
     ]
    },
    {
     "name": "stdout",
     "output_type": "stream",
     "text": [
      "the square of two numbers is 64\n"
     ]
    }
   ],
   "source": [
    "#q(6) write square of two numbers?\n",
    "a=int(input(\"Enter number 1:\"))\n",
    "\n",
    "print(\"the square of two numbers is\",a**2)"
   ]
  },
  {
   "cell_type": "code",
   "execution_count": 19,
   "id": "c8f2fd6f-84b4-4046-83a9-129672c8b5b3",
   "metadata": {},
   "outputs": [
    {
     "name": "stdin",
     "output_type": "stream",
     "text": [
      "Enter your name: hamna\n"
     ]
    },
    {
     "name": "stdout",
     "output_type": "stream",
     "text": [
      "good afternooon, hamna\n"
     ]
    }
   ],
   "source": [
    "#q(7)write a python program to display a user enterd name followed by good afternoon using input() function?\n",
    "name= input(\"Enter your name:\")\n",
    "print(f\"good afternooon, {name}\")"
   ]
  },
  {
   "cell_type": "code",
   "execution_count": 25,
   "id": "2cf16e1e-15fe-4981-88ef-2da426e9f24d",
   "metadata": {},
   "outputs": [
    {
     "name": "stdout",
     "output_type": "stream",
     "text": [
      "dear nimra>, \n",
      "          you are selected!\n",
      "          24 september 2050>\n"
     ]
    }
   ],
   "source": [
    "#Q(8)write a program to fill in a letter template  with name and date ?\n",
    "letter =  '''dear <|name|>, \n",
    "          you are selected!\n",
    "          <|date|>'''\n",
    "print(letter.replace(\"<|name|\",\"nimra\").replace(\"<|date|\",\"24 september 2050\"))\n",
    "\n"
   ]
  },
  {
   "cell_type": "code",
   "execution_count": 27,
   "id": "b77c7494-9460-471a-9bc8-925265cbc030",
   "metadata": {},
   "outputs": [
    {
     "name": "stdout",
     "output_type": "stream",
     "text": [
      "16\n"
     ]
    }
   ],
   "source": [
    "#q(9) dected double space in string?(double space detector)\n",
    "name= \" we are going to  home \"\n",
    "print(name.find(\"  \"))  #(find function return index of substring in a parents string)"
   ]
  },
  {
   "cell_type": "code",
   "execution_count": 28,
   "id": "dd717d78-b4ec-4d9f-8e28-5b16d172c5c7",
   "metadata": {},
   "outputs": [
    {
     "name": "stdout",
     "output_type": "stream",
     "text": [
      " dear hamna. \n",
      "\t this python exercise  is good .\n",
      " thanks!\n"
     ]
    }
   ],
   "source": [
    "#q(11)write a program to formate the following letter using escape sequance characters?\n",
    "letter=\" dear hamna. \\n\\t this python exercise  is good .\\n thanks!\"\n",
    "print(letter)"
   ]
  },
  {
   "cell_type": "code",
   "execution_count": 30,
   "id": "21a2341b-e307-47ba-9851-22e37d4db772",
   "metadata": {},
   "outputs": [
    {
     "name": "stdin",
     "output_type": "stream",
     "text": [
      "Enter furites name: banana\n",
      "Enter furites name: mango\n",
      "Enter furites name: orange\n",
      "Enter furites name: graps\n",
      "Enter furites name: kivi\n",
      "Enter furites name: apple\n",
      "Enter furites name: avocado\n"
     ]
    },
    {
     "name": "stdout",
     "output_type": "stream",
     "text": [
      "['banana', 'mango', 'orange', 'graps', 'kivi', 'apple', 'avocado']\n"
     ]
    }
   ],
   "source": [
    "#Q(12) store a seven furites in a list ?\n",
    "furite=[]\n",
    "f1=input(\"Enter furites name:\")\n",
    "f2=input(\"Enter furites name:\")\n",
    "f3=input(\"Enter furites name:\")\n",
    "f4=input(\"Enter furites name:\")\n",
    "f5=input(\"Enter furites name:\")\n",
    "f6=input(\"Enter furites name:\")\n",
    "f7=input(\"Enter furites name:\")\n",
    "furite.append(f1)\n",
    "furite.append(f2)\n",
    "furite.append(f3)\n",
    "furite.append(f4)\n",
    "furite.append(f5)\n",
    "furite.append(f6)\n",
    "furite.append(f7)\n",
    "print(furite)"
   ]
  },
  {
   "cell_type": "code",
   "execution_count": 34,
   "id": "d5882857-40e4-43eb-a04a-abec77113e7f",
   "metadata": {},
   "outputs": [
    {
     "name": "stdin",
     "output_type": "stream",
     "text": [
      "Enter marks here: 89\n",
      "Enter marks here: 90\n",
      "Enter marks here: 78\n",
      "Enter marks here: 65\n",
      "Enter marks here: 78\n",
      "Enter marks here: 88\n",
      "Enter marks here: 56\n"
     ]
    },
    {
     "name": "stdout",
     "output_type": "stream",
     "text": [
      "['56', '65', '78', '78', '88', '89', '90']\n"
     ]
    }
   ],
   "source": [
    "#Q(13) write a program to accept marks of 7 students and disply in shorted manner?\n",
    "marks=[]\n",
    "f1=input(\"Enter marks here:\")\n",
    "f2=input(\"Enter marks here:\")\n",
    "f3=input(\"Enter marks here:\")\n",
    "f4=input(\"Enter marks here:\")\n",
    "f5=input(\"Enter marks here:\")\n",
    "f6=input(\"Enter marks here:\")\n",
    "f7=input(\"Enter marks here:\")\n",
    "marks.append(f1)\n",
    "marks.append(f2)\n",
    "marks.append(f3)\n",
    "marks.append(f4)\n",
    "marks.append(f5)\n",
    "marks.append(f6)\n",
    "marks.append(f7)\n",
    "marks.sort()\n",
    "print(marks)"
   ]
  },
  {
   "cell_type": "code",
   "execution_count": 35,
   "id": "7ae71840-3ced-4d36-ae16-11281f60c989",
   "metadata": {},
   "outputs": [
    {
     "ename": "TypeError",
     "evalue": "'tuple' object does not support item assignment",
     "output_type": "error",
     "traceback": [
      "\u001b[1;31m---------------------------------------------------------------------------\u001b[0m",
      "\u001b[1;31mTypeError\u001b[0m                                 Traceback (most recent call last)",
      "Cell \u001b[1;32mIn[35], line 3\u001b[0m\n\u001b[0;32m      1\u001b[0m \u001b[38;5;66;03m#(14) check tuple type can not be changed in python?\u001b[39;00m\n\u001b[0;32m      2\u001b[0m a\u001b[38;5;241m=\u001b[39m(\u001b[38;5;241m34\u001b[39m, \u001b[38;5;241m234\u001b[39m,\u001b[38;5;124m\"\u001b[39m\u001b[38;5;124mnimra\u001b[39m\u001b[38;5;124m\"\u001b[39m)\n\u001b[1;32m----> 3\u001b[0m \u001b[43ma\u001b[49m\u001b[43m[\u001b[49m\u001b[38;5;241;43m2\u001b[39;49m\u001b[43m]\u001b[49m\u001b[38;5;241m=\u001b[39m\u001b[38;5;124m\"\u001b[39m\u001b[38;5;124mnim\u001b[39m\u001b[38;5;124m\"\u001b[39m\n",
      "\u001b[1;31mTypeError\u001b[0m: 'tuple' object does not support item assignment"
     ]
    }
   ],
   "source": [
    "#(14) check tuple type can not be changed in python?\n",
    "a=(34, 234,\"nimra\")\n",
    "a[2]=\"nim\"\n"
   ]
  },
  {
   "cell_type": "code",
   "execution_count": 36,
   "id": "7120d3e6-841c-4d5f-9ac0-9159ea375edf",
   "metadata": {},
   "outputs": [
    {
     "name": "stdout",
     "output_type": "stream",
     "text": [
      "15\n"
     ]
    }
   ],
   "source": [
    "#(15) write a program to sum a list with 4 numbers?\n",
    "l=[2,3,4,6]\n",
    "print(sum(l))"
   ]
  },
  {
   "cell_type": "code",
   "execution_count": 37,
   "id": "a20d58ef-c2a4-4979-a1d0-76145a03b246",
   "metadata": {},
   "outputs": [
    {
     "name": "stdout",
     "output_type": "stream",
     "text": [
      "2\n"
     ]
    }
   ],
   "source": [
    "#(16) write a program to count no of zero in following tuple?\n",
    "a=(7,8,8,0,0,9)\n",
    "n=a.count(0)\n",
    "print(n)\n"
   ]
  },
  {
   "cell_type": "code",
   "execution_count": 43,
   "id": "12aa1914-edd5-4a79-9983-e18f022bda16",
   "metadata": {},
   "outputs": [
    {
     "name": "stdin",
     "output_type": "stream",
     "text": [
      "Enter the word you want maning of : chair\n"
     ]
    },
    {
     "name": "stdout",
     "output_type": "stream",
     "text": [
      "kuri\n"
     ]
    }
   ],
   "source": [
    "#Q(17) write a program to create a dicctionary of words with value at there english translation?\n",
    "words={ \"help\":\"madad\",\n",
    "      \"chair\":\"kuri\",\n",
    "      \"cat\":\"bili\"\n",
    "     }\n",
    "word= input(\"Enter the word you want maning of :\")\n",
    "print(words[word])"
   ]
  },
  {
   "cell_type": "code",
   "execution_count": 45,
   "id": "526015ce-9b5d-4dd7-8deb-7f0b69cd3f2a",
   "metadata": {},
   "outputs": [
    {
     "name": "stdin",
     "output_type": "stream",
     "text": [
      "Enter no 2: 2\n",
      "Enter no 3: 3\n",
      "Enter no 4: 4\n",
      "Enter no 5: 5\n",
      "Enter no 6: 6\n",
      "Enter no 7: 7\n",
      "Enter no 8: 8\n"
     ]
    },
    {
     "name": "stdout",
     "output_type": "stream",
     "text": [
      "{2, 3, 4, 5, 6, 7, 8}\n"
     ]
    }
   ],
   "source": [
    "# q(18) write a program to input 8 numbers from the users  and disply all the unique numbers at (ones)\n",
    "s=set()\n",
    "n=input(\"Enter no 2:\")\n",
    "s.add(int(n))\n",
    "n=input(\"Enter no 3:\")\n",
    "s.add(int(n))\n",
    "n=input(\"Enter no 4:\")\n",
    "s.add(int(n))\n",
    "n=input(\"Enter no 5:\")\n",
    "s.add(int(n))\n",
    "n=input(\"Enter no 6:\")\n",
    "s.add(int(n))\n",
    "n=input(\"Enter no 7:\")\n",
    "s.add(int(n))\n",
    "n=input(\"Enter no 8:\")\n",
    "s.add(int(n))\n",
    "print(s)"
   ]
  },
  {
   "cell_type": "code",
   "execution_count": 46,
   "id": "5565f885-f2b8-48ad-949e-8513b8235f80",
   "metadata": {},
   "outputs": [
    {
     "name": "stdout",
     "output_type": "stream",
     "text": [
      "{18, '18'}\n"
     ]
    }
   ],
   "source": [
    "#Q(19) can we have a set with 18(int) and \"18\" (str) as avalue in it?\n",
    "s=set()\n",
    "s.add(18)\n",
    "s.add(\"18\")\n",
    "print(s)  #(yes)\n"
   ]
  },
  {
   "cell_type": "code",
   "execution_count": 48,
   "id": "d2dabfbc-f460-4925-a843-8d766de7562a",
   "metadata": {},
   "outputs": [
    {
     "name": "stdout",
     "output_type": "stream",
     "text": [
      "<class 'dict'>\n"
     ]
    }
   ],
   "source": [
    "s={}\n",
    "#what is the type of 's'?\n",
    "print(type(s))\n"
   ]
  },
  {
   "cell_type": "code",
   "execution_count": 50,
   "id": "b5093621-9a0a-4505-bb01-a271a695484b",
   "metadata": {},
   "outputs": [
    {
     "name": "stdin",
     "output_type": "stream",
     "text": [
      "Enter friends name: nimra\n",
      "Enter language name: python\n",
      "Enter friends name: sanai\n",
      "Enter language name: jana\n",
      "Enter friends name: umar\n",
      "Enter language name: c++\n",
      "Enter friends name: misbah\n",
      "Enter language name: react\n",
      "Enter friends name: aslam\n",
      "Enter language name: marn\n",
      "Enter friends name: dedi\n",
      "Enter language name: html\n",
      "Enter friends name: nida\n",
      "Enter language name: sql\n"
     ]
    },
    {
     "name": "stdout",
     "output_type": "stream",
     "text": [
      "{'nimra': 'python', 'sanai': 'jana', 'umar': 'c++', 'misbah': 'react', 'aslam': 'marn', 'dedi': 'html', 'nida': 'sql'}\n"
     ]
    }
   ],
   "source": [
    "#(20)create an empty dictionary allow 4 friends language as value key as their name  assume that the names are unique?\n",
    "d={}\n",
    "name=input(\"Enter friends name:\")\n",
    "lang=input(\"Enter language name:\")\n",
    "d.update({name:lang})\n",
    "\n",
    "name=input(\"Enter friends name:\")\n",
    "lang=input(\"Enter language name:\")\n",
    "d.update({name:lang})\n",
    "\n",
    "name=input(\"Enter friends name:\")\n",
    "lang=input(\"Enter language name:\")\n",
    "d.update({name:lang})\n",
    "\n",
    "name=input(\"Enter friends name:\")\n",
    "lang=input(\"Enter language name:\")\n",
    "d.update({name:lang})\n",
    "\n",
    "name=input(\"Enter friends name:\")\n",
    "lang=input(\"Enter language name:\")\n",
    "d.update({name:lang})\n",
    "\n",
    "name=input(\"Enter friends name:\")\n",
    "lang=input(\"Enter language name:\")\n",
    "d.update({name:lang})\n",
    "\n",
    "name=input(\"Enter friends name:\")\n",
    "lang=input(\"Enter language name:\")\n",
    "d.update({name:lang})\n",
    "print(d)\n",
    "\n"
   ]
  },
  {
   "cell_type": "code",
   "execution_count": 51,
   "id": "de082c95-63b7-4ebe-a19d-f350bf50a3ca",
   "metadata": {},
   "outputs": [
    {
     "name": "stdin",
     "output_type": "stream",
     "text": [
      "Enter no 1: 3\n",
      "Enter no 2: 5\n",
      "Enter no 3: 7\n",
      "Enter no 4: 8\n"
     ]
    },
    {
     "name": "stdout",
     "output_type": "stream",
     "text": [
      "gratest number is a4: 8\n"
     ]
    }
   ],
   "source": [
    "#(21) gratest of four number enterd by user?\n",
    "a1= int(input(\"Enter no 1:\"))\n",
    "a2= int(input(\"Enter no 2:\"))\n",
    "a3= int(input(\"Enter no 3:\"))\n",
    "a4= int(input(\"Enter no 4:\"))\n",
    "if(a1>a2 and a1>a3 and a1>a4):\n",
    "    print(\"gratest number is a1:\",a1)\n",
    "elif (a2>a1 and a2>a3 and a3>a4):\n",
    "    print(\"gratest number is a2:\",a2) \n",
    "elif (a3>a1 and a3>a2 and a3>a4):\n",
    "    print(\"gratest number is a3:\",a3) \n",
    "elif (a4>a1 and a4>a2 and a4>a3):\n",
    "    print(\"gratest number is a4:\",a4) \n",
    "    \n"
   ]
  },
  {
   "cell_type": "code",
   "execution_count": null,
   "id": "536ef19d-dd39-4d5c-b3bc-63873ff6e90b",
   "metadata": {},
   "outputs": [],
   "source": []
  }
 ],
 "metadata": {
  "kernelspec": {
   "display_name": "Python 3 (ipykernel)",
   "language": "python",
   "name": "python3"
  },
  "language_info": {
   "codemirror_mode": {
    "name": "ipython",
    "version": 3
   },
   "file_extension": ".py",
   "mimetype": "text/x-python",
   "name": "python",
   "nbconvert_exporter": "python",
   "pygments_lexer": "ipython3",
   "version": "3.12.1"
  }
 },
 "nbformat": 4,
 "nbformat_minor": 5
}
