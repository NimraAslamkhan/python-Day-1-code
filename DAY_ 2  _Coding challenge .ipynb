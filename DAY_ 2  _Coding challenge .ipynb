{
 "cells": [
  {
   "cell_type": "markdown",
   "id": "94b407bd-5d15-46ee-899d-d7c0d68c081a",
   "metadata": {},
   "source": [
    "# Day 2 coding challange\n",
    "## 1 conditional expresion\n",
    "## 2 loop in python\n",
    "## 3 function and recursions\n",
    "## 4 file I/o\n",
    "## 5 object oriented programing\n",
    "## 6  Advance python 1\n",
    "## 7 Advanced python 2\n"
   ]
  },
  {
   "cell_type": "code",
   "execution_count": 7,
   "id": "409f4f65-ef09-4234-aff4-03b03b74ba0c",
   "metadata": {},
   "outputs": [
    {
     "name": "stdin",
     "output_type": "stream",
     "text": [
      "Enter marks 1: 23\n",
      "Enter marks 2: 78\n",
      "Enter marks 3: 87\n"
     ]
    },
    {
     "name": "stdout",
     "output_type": "stream",
     "text": [
      "you are faile try next year 62.666666666666664\n"
     ]
    }
   ],
   "source": [
    "#Q(1) program to find out  whether a student has passed or failed if it requires to 40% and atlest 33% to pass?\n",
    "marks1=int(input(\"Enter marks 1:\"))\n",
    "marks2=int(input(\"Enter marks 2:\"))\n",
    "marks3=int(input(\"Enter marks 3:\"))\n",
    "#check the total percentage \n",
    "total_percentage=(100)*(marks1+marks2+marks3)/300\n",
    "if(total_percentage>=40 and marks1>=33 and marks2>=33 and marks3>=33):\n",
    "    print(\"you are pass\", total_percentage)\n",
    "else:\n",
    "    print(\"you are faile try next year\",total_percentage) "
   ]
  },
  {
   "cell_type": "code",
   "execution_count": 10,
   "id": "94358f66-5281-4c7d-8388-00bed9e98d78",
   "metadata": {},
   "outputs": [
    {
     "name": "stdin",
     "output_type": "stream",
     "text": [
      "Enter your comment : money\n"
     ]
    },
    {
     "name": "stdout",
     "output_type": "stream",
     "text": [
      "this comment is not spam\n"
     ]
    }
   ],
   "source": [
    "#Q(2) program to detect spam comment\n",
    "p1=\"make a lot of money\"\n",
    "p2=\"buy now\"\n",
    "p3=\"subscribe this\"\n",
    "p4=\"click this\"\n",
    "massege = input(\"Enter your comment :\")\n",
    "if((p1 is massege ) or (p2 is massege) or (p3 is massege )):\n",
    "    print( \"this comment is spam\")\n",
    "else:\n",
    "    print(\"this comment is not spam\")\n"
   ]
  },
  {
   "cell_type": "code",
   "execution_count": 11,
   "id": "6561b882-48de-4523-99ed-1dc29f7049c0",
   "metadata": {},
   "outputs": [
    {
     "name": "stdin",
     "output_type": "stream",
     "text": [
      "Enter username: nimrakhan\n"
     ]
    },
    {
     "name": "stdout",
     "output_type": "stream",
     "text": [
      "your username cantain  less then 10 character\n"
     ]
    }
   ],
   "source": [
    "#Q(3) give a user name contain less then 10 characters or not?\n",
    "username=input(\"Enter username:\")\n",
    "if (len(username)<10):\n",
    "    print(\"your username cantain  less then 10 character\")\n",
    "else:\n",
    "    print(\"your username  not cantain  less then 10 character\")"
   ]
  },
  {
   "cell_type": "code",
   "execution_count": 14,
   "id": "dac29608-8816-48a2-809d-d205d79c66f8",
   "metadata": {},
   "outputs": [
    {
     "name": "stdin",
     "output_type": "stream",
     "text": [
      "enter your name: umar\n"
     ]
    },
    {
     "name": "stdout",
     "output_type": "stream",
     "text": [
      "name in the list\n"
     ]
    }
   ],
   "source": [
    "#Q(4) find give name is present in list or not?\n",
    "l=[\"muhanmmed\", \"umar\", \"hamza\" , \"sana\"]\n",
    "name=input(\"enter your name:\")\n",
    "if (name  in l):\n",
    "    print(\"name in the list\")\n",
    "else:\n",
    "    print(\"name not in the list\")\n",
    "\n"
   ]
  },
  {
   "cell_type": "code",
   "execution_count": 31,
   "id": "6d12f46c-0866-4ca1-b094-0e6daa4bd94b",
   "metadata": {},
   "outputs": [
    {
     "name": "stdin",
     "output_type": "stream",
     "text": [
      "Enter you mark: 98\n"
     ]
    },
    {
     "name": "stdout",
     "output_type": "stream",
     "text": [
      "you grade is Ex\n"
     ]
    }
   ],
   "source": [
    "#Q(5) program to calculate grades of student of folowing parsentage(90%, 80%, 70%, 60%,50%)\n",
    "mark= int (input(\"Enter you mark:\"))\n",
    "if (mark<=100 and mark>=90):\n",
    "            grade=\"Ex\"\n",
    "elif (mark<90 and mark>=80):\n",
    "            grade=\"A\"\n",
    "elif (mark<80 and mark>=70):\n",
    "            grade=\"B\"\n",
    "elif (mark<70 and mark>=60):\n",
    "            grade=\"C\"\n",
    "elif (mark<60 and mark>=50):\n",
    "            grade=\"D\"\n",
    "elif (mark<50):\n",
    "            grade=\"F\"\n",
    "\n",
    "print(\"you grade is\" ,grade)"
   ]
  },
  {
   "cell_type": "code",
   "execution_count": 38,
   "id": "8a0c4af9-5025-4f62-a762-4518391cf938",
   "metadata": {},
   "outputs": [
    {
     "name": "stdin",
     "output_type": "stream",
     "text": [
      "Enter the post: ai is now a days going good\n"
     ]
    },
    {
     "name": "stdout",
     "output_type": "stream",
     "text": [
      "AI is in post\n"
     ]
    }
   ],
   "source": [
    "# Q(6) post is talking about AI or not ?\n",
    "post= input(\"Enter the post:\")\n",
    "\n",
    "if (\"AI\".lower() in post.lower()):\n",
    "    print(\"AI is in post\")\n",
    "else:\n",
    "    print(\"not in post\")\n",
    "    \n",
    "    "
   ]
  },
  {
   "cell_type": "code",
   "execution_count": 41,
   "id": "41f3e80d-0ad8-46d3-bdb6-bf658103d513",
   "metadata": {},
   "outputs": [
    {
     "name": "stdin",
     "output_type": "stream",
     "text": [
      "Enter a number: 8\n"
     ]
    },
    {
     "name": "stdout",
     "output_type": "stream",
     "text": [
      "8x1=8\n",
      "8x2=16\n",
      "8x3=24\n",
      "8x4=32\n",
      "8x5=40\n",
      "8x6=48\n",
      "8x7=56\n",
      "8x8=64\n",
      "8x9=72\n",
      "8x10=80\n"
     ]
    }
   ],
   "source": [
    "#Q(8) A program to print a multiplication table of a give number number using for loop ?\n",
    "n= int(input(\"Enter a number:\"))\n",
    "for i in range(1,11):\n",
    "    print(f\"{n}x{i}={n*i}\")\n",
    "       "
   ]
  },
  {
   "cell_type": "code",
   "execution_count": 9,
   "id": "d0f73373-c09b-4d34-a2b5-784f9bcc41d3",
   "metadata": {},
   "outputs": [
    {
     "name": "stdin",
     "output_type": "stream",
     "text": [
      "Enter number: 7\n"
     ]
    },
    {
     "name": "stdout",
     "output_type": "stream",
     "text": [
      "number is prime\n"
     ]
    }
   ],
   "source": [
    "#Q(9) given number is prime or not?\n",
    "\n",
    "n=int(input(\"Enter number:\"))\n",
    "for i in range (2, n):\n",
    "    if (n%i==0):\n",
    "        print(\"number is not prime\")\n",
    "        break\n",
    "else:\n",
    "        print(\"number is prime\")"
   ]
  },
  {
   "cell_type": "code",
   "execution_count": null,
   "id": "5cb7c6df-b5c3-4587-af99-a57d449af60a",
   "metadata": {},
   "outputs": [],
   "source": [
    "# solve by usinf while loop?\n",
    "n= int(input(\"Enter a number:\"))\n",
    "i=1\n",
    "while(1<11):\n",
    "    \n",
    "    print(f\"{n}x{i}={n*i}\")\n",
    "    i+=1"
   ]
  },
  {
   "cell_type": "code",
   "execution_count": 12,
   "id": "ac9c4df1-f9f7-4df3-b45e-fb2304a6db06",
   "metadata": {},
   "outputs": [
    {
     "name": "stdin",
     "output_type": "stream",
     "text": [
      "Enter the number 9\n"
     ]
    },
    {
     "name": "stdout",
     "output_type": "stream",
     "text": [
      "45\n"
     ]
    }
   ],
   "source": [
    "#Q(10) sum the number by using while loop?\n",
    "\n",
    "n= int(input(\"Enter a number:\"))\n",
    "i=1\n",
    "while(1<11):\n",
    "    \n",
    "    print(f\"{n}x{i}={n*i}\")\n",
    "    i+=1\n",
    "i=1\n",
    "sum=0\n",
    "\n",
    "while(i<=n):\n",
    "    sum+=i\n",
    "    i+=1\n",
    "   \n",
    "print(sum)\n",
    "    \n",
    "    "
   ]
  },
  {
   "cell_type": "code",
   "execution_count": 18,
   "id": "c261b334-5987-43b2-9176-cbad064aff1b",
   "metadata": {},
   "outputs": [
    {
     "name": "stdin",
     "output_type": "stream",
     "text": [
      "Enter the number 7\n"
     ]
    },
    {
     "name": "stdout",
     "output_type": "stream",
     "text": [
      "factorial of 7 is 1\n",
      "factorial of 7 is 2\n",
      "factorial of 7 is 6\n",
      "factorial of 7 is 24\n",
      "factorial of 7 is 120\n",
      "factorial of 7 is 720\n",
      "factorial of 7 is 5040\n"
     ]
    }
   ],
   "source": [
    "#Q(11) factorial of given number by using for loof?\n",
    "n=int(input(\"Enter the number\"))\n",
    "product= 1\n",
    "for i in range(1, n+1):\n",
    "     product= product*i\n",
    "     print(f\"factorial of {n} is {product}\")\n",
    "    \n"
   ]
  },
  {
   "cell_type": "code",
   "execution_count": 25,
   "id": "326670ae-ed29-411a-b535-dab42ef060f0",
   "metadata": {},
   "outputs": [
    {
     "name": "stdin",
     "output_type": "stream",
     "text": [
      "Enter number: 3\n"
     ]
    },
    {
     "name": "stdout",
     "output_type": "stream",
     "text": [
      "  *\n",
      "\n",
      " ***\n",
      "\n",
      "*****\n",
      "\n"
     ]
    }
   ],
   "source": [
    "#Q(12) print the star pattrean ?\n",
    "n=int(input(\"Enter number:\"))\n",
    "for i in range (1,1+n):\n",
    "    print(\" \"*(n-i), end=\"\" )\n",
    "    print(\"*\"*(2*i-1), end=\"\" )\n",
    "    print(\"\\n\")\n",
    "    \n",
    "    \n"
   ]
  },
  {
   "cell_type": "code",
   "execution_count": 33,
   "id": "0b82f238-071a-4c74-80ca-e5b0160f7c3f",
   "metadata": {},
   "outputs": [
    {
     "name": "stdin",
     "output_type": "stream",
     "text": [
      "Enter number: 9\n"
     ]
    },
    {
     "name": "stdout",
     "output_type": "stream",
     "text": [
      "9x10=9\n",
      "9x9=18\n",
      "9x8=27\n",
      "9x7=36\n",
      "9x6=45\n",
      "9x5=54\n",
      "9x4=63\n",
      "9x3=72\n",
      "9x2=81\n",
      "9x1=90\n"
     ]
    }
   ],
   "source": [
    "#Q(13) print multiplication table of n using for loops in reversedorder?\n",
    "n= int(input(\"Enter number:\"))\n",
    "       \n",
    "for i in range (1, 11):\n",
    "       print(f\"{n}x{11-i}={n*i}\")\n",
    "               "
   ]
  },
  {
   "cell_type": "code",
   "execution_count": 31,
   "id": "21ff678b-c144-40bc-845b-37fbcbf2b251",
   "metadata": {},
   "outputs": [
    {
     "name": "stdin",
     "output_type": "stream",
     "text": [
      "Enter number: 7\n"
     ]
    },
    {
     "name": "stdout",
     "output_type": "stream",
     "text": [
      "********     * \n",
      "*     * \n",
      "*     * \n",
      "*     * \n",
      "*     * \n",
      "*******"
     ]
    }
   ],
   "source": [
    "n=int(input(\"Enter number:\"))\n",
    "for i in range (1,1+n):\n",
    "    if (i==1 or i==n):\n",
    "       print(\"*\"* n, end=\"\")\n",
    "    else:\n",
    "         print(\"*\" , end=\"\")\n",
    "         print(\" \"* (n-2), end=\"\")\n",
    "         print(\"*\" , end=\"\")\n",
    "         print(\" \")       \n",
    "        \n",
    "    "
   ]
  },
  {
   "cell_type": "code",
   "execution_count": 34,
   "id": "66ffdca9-5406-44c8-bc47-e60219816a39",
   "metadata": {},
   "outputs": [
    {
     "name": "stdout",
     "output_type": "stream",
     "text": [
      "8\n"
     ]
    }
   ],
   "source": [
    "#Q(13) program  using function finding  gratest of three numbers?\n",
    "\n",
    "def greatest(a,b,c):\n",
    "    if (a>b and  a>c ):\n",
    "        return a\n",
    "    elif (b>a and b>c):\n",
    "        return b\n",
    "    elif (c>a and c>b ):\n",
    "        return c\n",
    "        \n",
    "a=4\n",
    "b=7\n",
    "c=8\n",
    "print(greatest(a,b,c))\n",
    "        "
   ]
  },
  {
   "cell_type": "code",
   "execution_count": 37,
   "id": "46c2c8e6-f793-4646-9011-49e8330d46eb",
   "metadata": {},
   "outputs": [
    {
     "name": "stdin",
     "output_type": "stream",
     "text": [
      "Enter number in f 98\n"
     ]
    },
    {
     "name": "stdout",
     "output_type": "stream",
     "text": [
      "3.6666666666666665\n"
     ]
    }
   ],
   "source": [
    "#Q(14) function to convert to forant hight?\n",
    "def f_to_c(f):\n",
    "  return 5*(f-32)/90\n",
    "f=int(input(\"Enter number in f\"))\n",
    "print(f_to_c(f))"
   ]
  },
  {
   "cell_type": "code",
   "execution_count": 44,
   "id": "0399ba7c-b78e-49db-bc42-a4b0ecb3fbae",
   "metadata": {},
   "outputs": [
    {
     "name": "stdout",
     "output_type": "stream",
     "text": [
      "Sum of digits of 5 is 5\n"
     ]
    }
   ],
   "source": [
    "#Q(15) Sum of Digits Using Recursion\n",
    "def sum_of_digits(n):\n",
    "    \n",
    "    if n == 0:\n",
    "        return 0\n",
    "   \n",
    "    else:\n",
    "        return n % 10 + sum_of_digits(n // 10)\n",
    "\n",
    "\n",
    "n = 5\n",
    "print(f\"Sum of digits of {n} is {sum_of_digits(n)}\")\n"
   ]
  },
  {
   "cell_type": "code",
   "execution_count": null,
   "id": "fe48b217-2581-4e34-9333-552d4a7a1321",
   "metadata": {},
   "outputs": [],
   "source": []
  }
 ],
 "metadata": {
  "kernelspec": {
   "display_name": "Python 3 (ipykernel)",
   "language": "python",
   "name": "python3"
  },
  "language_info": {
   "codemirror_mode": {
    "name": "ipython",
    "version": 3
   },
   "file_extension": ".py",
   "mimetype": "text/x-python",
   "name": "python",
   "nbconvert_exporter": "python",
   "pygments_lexer": "ipython3",
   "version": "3.12.1"
  }
 },
 "nbformat": 4,
 "nbformat_minor": 5
}
